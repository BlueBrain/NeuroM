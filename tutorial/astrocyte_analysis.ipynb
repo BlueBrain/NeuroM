{
 "cells": [
  {
   "cell_type": "markdown",
   "metadata": {},
   "source": [
    "# Astrocyte analysis"
   ]
  },
  {
   "cell_type": "code",
   "execution_count": null,
   "metadata": {},
   "outputs": [],
   "source": [
    "%%capture\n",
    "!pip install tmd wget neurom[plotly]"
   ]
  },
  {
   "cell_type": "code",
   "execution_count": null,
   "metadata": {},
   "outputs": [],
   "source": [
    "import os\n",
    "import wget\n",
    "import tmd\n",
    "\n",
    "import neurom as nm\n",
    "import ipywidgets as widgets\n",
    "\n",
    "from neurom.view import plotly_impl"
   ]
  },
  {
   "cell_type": "code",
   "execution_count": null,
   "metadata": {},
   "outputs": [],
   "source": [
    "astrocyte_base_url = \"https://bbp.epfl.ch/ngv-portal/data/anatomy/reconstruction-data/synthesized-astrocyte-morphologies\"\n",
    "astrocyte_filenames = [\"GLIA_0000000000100.h5\", \"GLIA_0000000000400.h5\", \"GLIA_0000000001200.h5\", \"GLIA_0000000001500.h5\", \"GLIA_0000000002350.h5\", \"GLIA_0000000003100.h5\", \"GLIA_0000000003400.h5\", \"GLIA_0000000004200.h5\", \"GLIA_0000000004500.h5\", \"GLIA_0000000000200.h5\", \"GLIA_0000000000500.h5\", \"GLIA_0000000001350.h5\", \"GLIA_0000000002100.h5\", \"GLIA_0000000002400.h5\", \"GLIA_0000000003250.h5\", \"GLIA_0000000003500.h5\", \"GLIA_0000000004300.h5\", \"GLIA_0000000000300.h5\", \"GLIA_0000000001100.h5\", \"GLIA_0000000001400.h5\", \"GLIA_0000000002250.h5\", \"GLIA_0000000002500.h5\", \"GLIA_0000000003350.h5\", \"GLIA_0000000004100.h5\", \"GLIA_0000000004400.h5\"]"
   ]
  },
  {
   "cell_type": "code",
   "execution_count": null,
   "metadata": {},
   "outputs": [],
   "source": [
    "astrocyte_select = widgets.Select(\n",
    "    options=astrocyte_filenames,\n",
    "    value=astrocyte_filenames[0],\n",
    "    rows=10,\n",
    "    description='Astrocyte:',\n",
    "    disabled=False\n",
    ")\n",
    "display(astrocyte_select)"
   ]
  },
  {
   "cell_type": "code",
   "execution_count": null,
   "metadata": {},
   "outputs": [],
   "source": [
    "astrocyte_path = astrocyte_select.value\n",
    "astrocyte_url = f'{astrocyte_base_url}/{astrocyte_path}'\n",
    "wget.download(astrocyte_url, os.getcwd())\n",
    "\n",
    "astrocyte = nm.load_morphology(astrocyte_path)"
   ]
  },
  {
   "cell_type": "markdown",
   "metadata": {},
   "source": [
    "## Show the astrocyte"
   ]
  },
  {
   "cell_type": "code",
   "execution_count": null,
   "metadata": {},
   "outputs": [],
   "source": [
    "fix, ax = plotly_impl.plot_morph3d(astrocyte, inline=True)"
   ]
  },
  {
   "cell_type": "markdown",
   "metadata": {},
   "source": [
    "## Morphology Analysis"
   ]
  },
  {
   "cell_type": "code",
   "execution_count": null,
   "metadata": {},
   "outputs": [],
   "source": [
    "# Extract the total number of neurites (basal and apical dendrites, and axons)\n",
    "number_of_neurites = nm.get('number_of_neurites', astrocyte)\n",
    "\n",
    "# Extract the total number of sections\n",
    "number_of_sections = nm.get('number_of_sections', astrocyte)\n",
    "\n",
    "# Extract the soma radius\n",
    "soma_radius = astrocyte.soma.radius\n",
    "\n",
    "# Extract the number of sections per neurite\n",
    "number_of_sections_per_neurite = nm.get('number_of_sections_per_neurite', astrocyte)\n",
    "\n",
    "# Print result\n",
    "print(\"Astrocyte id       : {0} \\n\\\n",
    "Number of neurites : {1} \\n\\\n",
    "Soma radius        : {2:.2f} \\n\\\n",
    "Number of sections : {3}\".format(astrocyte.name, number_of_neurites, soma_radius, number_of_sections))\n",
    "print()\n",
    "print(\"Neurite type \\t\\t\\t| Number of sections\")\n",
    "for i, neurite in enumerate(astrocyte.neurites):    \n",
    "    print(\"{0:31} | {1}\".format(str(neurite.type), number_of_sections_per_neurite[i]))"
   ]
  },
  {
   "cell_type": "code",
   "execution_count": null,
   "metadata": {},
   "outputs": [],
   "source": [
    "# Extract the lengths of the sections\n",
    "section_lengths = nm.get('section_lengths', astrocyte)\n",
    "\n",
    "# Extract the lengths of the segments\n",
    "segment_lengths = nm.get('segment_lengths', astrocyte)\n",
    "\n",
    "# Extract the local bifurcation angles\n",
    "local_bif_angles = nm.get('local_bifurcation_angles', astrocyte)\n",
    "\n",
    "# Extract the remote bifurcation angles\n",
    "remote_bif_angles = nm.get('remote_bifurcation_angles', astrocyte)\n",
    "\n",
    "# Extract the radial distances of the sections\n",
    "section_radial_distances = nm.get('section_radial_distances', astrocyte)\n",
    "\n",
    "# Extract the path distances of the sections\n",
    "section_path_distances = nm.get('section_path_distances', astrocyte)\n",
    "\n",
    "# Print result\n",
    "features = (segment_lengths, section_lengths, local_bif_angles, \n",
    "            remote_bif_angles, section_path_distances, section_radial_distances)\n",
    "\n",
    "def check(feature_list, n): \n",
    "    return '{0:.2f}'.format(feature_list[n]) if n < len(feature_list) else ''\n",
    "\n",
    "print('|sg_len|sc_len|lc_bif_angles|rm_bif_angles|sc_path_dists|sc_rad_dists|')\n",
    "for n in range(0, 50):\n",
    "    args = (check(f, n) for f in features)\n",
    "    print('|{0:^6}|{1:^6}|{2:^13}|{3:^13}|{4:^13}|{5:^12}|'.format(*args))\n",
    "\n"
   ]
  },
  {
   "cell_type": "markdown",
   "metadata": {},
   "source": [
    "## Morphometrics plots"
   ]
  },
  {
   "cell_type": "code",
   "execution_count": null,
   "metadata": {},
   "outputs": [],
   "source": [
    "import matplotlib.pyplot as plt\n",
    "\n",
    "# Select the feature of choice\n",
    "feature = nm.get('section_lengths', astrocyte)\n",
    "\n",
    "# Create empty figure\n",
    "fig = plt.figure(figsize=(21, 5))\n",
    "\n",
    "# Create histogram\n",
    "ax = fig.add_subplot(131)\n",
    "ax.hist(feature, bins=25, edgecolor='black')\n",
    "\n",
    "# Create cumulative histogram\n",
    "ax = fig.add_subplot(132)\n",
    "ax.hist(feature, bins=25, cumulative=True, edgecolor='black')\n",
    "\n",
    "# Create boxplot; flier points are indicated with green dots\n",
    "ax = fig.add_subplot(133)\n",
    "_ = ax.boxplot(feature, sym='g.')"
   ]
  },
  {
   "cell_type": "code",
   "execution_count": null,
   "metadata": {},
   "outputs": [],
   "source": [
    "# Select the feature of choice\n",
    "feature = nm.get('section_path_distances', astrocyte)\n",
    "\n",
    "# Create empty figure\n",
    "fig = plt.figure(figsize=(21, 5))\n",
    "\n",
    "# Create histogram\n",
    "ax = fig.add_subplot(131)\n",
    "ax.hist(feature, bins=25, edgecolor='black')\n",
    "\n",
    "# Create cumulative histogram\n",
    "ax = fig.add_subplot(132)\n",
    "ax.hist(feature, bins=25, cumulative=True, edgecolor='black')\n",
    "\n",
    "# Create boxplot; flier points are indicated with green dots\n",
    "ax = fig.add_subplot(133)\n",
    "_ = ax.boxplot(feature, sym='g.')"
   ]
  },
  {
   "cell_type": "markdown",
   "metadata": {},
   "source": [
    "## Extract and plot branching topology"
   ]
  },
  {
   "cell_type": "code",
   "execution_count": null,
   "metadata": {},
   "outputs": [],
   "source": [
    "# Step 2: Load your morphology\n",
    "neu = tmd.io.load_neuron(astrocyte_path)\n",
    "\n",
    "# Step 5: Extract the ph diagram of a neuron's trees,\n",
    "# depending on the neurite_type\n",
    "ph_axon = tmd.methods.get_ph_neuron(neu, neurite_type='axon')\n",
    "ph_basal = tmd.methods.get_ph_neuron(neu, neurite_type='basal')\n",
    "\n",
    "# Step 6: Plot the extracted topological data with three different ways\n",
    "from tmd.view import view, plot\n",
    "\n",
    "# Visualize the persistence diagram\n",
    "fig, ax = plot.diagram(ph_axon)\n",
    "\n",
    "# Visualize the persistence barcode\n",
    "fig, ax = plot.barcode(ph_axon)\n",
    "\n",
    "# Visualize the persistence image\n",
    "fig, ax = plot.persistence_image(ph_axon)"
   ]
  },
  {
   "cell_type": "code",
   "execution_count": null,
   "metadata": {},
   "outputs": [],
   "source": []
  }
 ],
 "metadata": {
  "kernelspec": {
   "display_name": "Python 3",
   "language": "python",
   "name": "python3"
  },
  "language_info": {
   "codemirror_mode": {
    "name": "ipython",
    "version": 3
   },
   "file_extension": ".py",
   "mimetype": "text/x-python",
   "name": "python",
   "nbconvert_exporter": "python",
   "pygments_lexer": "ipython3",
   "version": "3.6.13"
  }
 },
 "nbformat": 4,
 "nbformat_minor": 4
}
