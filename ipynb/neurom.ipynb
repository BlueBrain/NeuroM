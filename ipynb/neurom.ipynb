{
 "cells": [
  {
   "cell_type": "markdown",
   "metadata": {},
   "source": [
    "<center><h1>NeuroM Demo Instructions</h1></center>\n",
    "\n",
    "<h2>0. Credit</h2>\n",
    "<p>If you use NeuroM for your (published) work, please add a reference to our work:\n",
    "\n",
    "Juan Palacios, Lida Kanari, Guy Atenekeng, Liesbeth Vanherpe, Julian Shillcock, EPFL,\n",
    "NeuroM -  https://github.com/BlueBrain/NeuroM.git.</p>"
   ]
  },
  {
   "cell_type": "markdown",
   "metadata": {},
   "source": [
    "<h2>1. Installation</h2>\n",
    "NeuroM supports Linux and OS X. Windows users are advised to use [VirtualBox](https://www.virtualbox.org/)\n",
    "\n",
    "It is assumed that the following packages are installed on your system:\n",
    "\n",
    "* Python 2.7\n",
    "* numpy >= 1.8.0\n",
    "* scipy\n",
    "* h5py >= 2.2.1 \n",
    "* matplotlib >= 1.3.1\n",
    "* ipython\n",
    "* pip\n",
    "* virtualenv\n",
    "* git\n",
    "\n",
    "These are available as packages in most Linux distributions. For OS X, please refer to [MacPorts](http://www.macports.org/) if you don’t already use a different package manager.\n",
    "\n",
    "<h3> 1.1 Virtualenv set-up </h3>\n",
    "\n",
    "<code>\n",
    "$ virtualenv --system-site-packages nrm    # creates a virtualenv called \"nrm\" in nrm directory\n",
    "$ source nrm/bin/activate                  # activates virtualenv\n",
    "(nrm)$                                     # now we are in the nrm virtualenv\n",
    "</code>\n",
    "\n",
    "The prompt indicates that the virtualenv has been activated. To de-activate it,\n",
    "\n",
    "<code>\n",
    "(nrm)$ deactivate\n",
    "</code>\n",
    "\n",
    "<h3> 1.2 Installation </h3>\n",
    "\n",
    "(nrm)$ git clone https://github.com/BlueBrain/NeuroM.git\n",
    "\n",
    "(nrm)$ pip install -e ./NeuroM              # the -e flag makes source changes immediately effective"
   ]
  },
  {
   "cell_type": "markdown",
   "metadata": {},
   "source": [
    "<h2> 2. Basic Examples </h2>\n",
    "\n",
    "<h3>2.1 Check the validity of a morphology file </h3>\n",
    "\n",
    "The application \"morph_check\" allows you to apply semantic checks to a morphology file before loading it into NeuroM.\n",
    "\n",
    "<code>\n",
    "(nrm)$ morph_check -h                       # shows help for the script to check a morphology\n",
    "</code>\n",
    "\n",
    "Try it yourself! You can go to [NeuroMorpho](http://neuromorpho.org) to download a neuronal morphology and perform the semantic checks.\n",
    "\n",
    "<code>\n",
    "(nrm)$ morph_check  path/to/file/filename\n",
    "<code>\n",
    "\n",
    "<h3>2.2 Extract basic morphometrics of a sample morphology </h3>\n",
    "\n",
    "Let's start by running an example of basic measurement extraction:\n",
    "\n",
    "<code>\n",
    "(nrm)$ cd NeuroM\n",
    "(nrm)$ python examples/ezy.py\n",
    "</code>\n",
    "\n",
    "<h3>2.3 The neurom.ezy module</h3>\n",
    "\n",
    "The neurom.ezy module contains a Neuron class and helper functions that allow to easily load neuron morphologies from files into NeuroM data structures. It also provides convenient methods to query various properties of the neurons.\n",
    "\n",
    "Open the interactive python terminal:\n",
    "\n",
    "<code>\n",
    "(nrm)$ ipython –pylab\n",
    "</code>\n",
    "\n",
    "If this gives a warning \"Attempting to work in a virtualenv …\",  ipython can be pip-installed inside the virtualenv but this must override the system ipython:\n",
    "\n",
    "<code>\n",
    "(nrm)$ pip install -I ipython\n",
    "<code>\n",
    "\n",
    "Now you can try and use the neurom.ezy functionality! We will start by loading and visualizing neuronal morphologies. Next, we will extract basic morphometrics."
   ]
  },
  {
   "cell_type": "code",
   "execution_count": 1,
   "metadata": {
    "collapsed": false
   },
   "outputs": [
    {
     "name": "stderr",
     "output_type": "stream",
     "text": [
      "/System/Library/Frameworks/Python.framework/Versions/2.7/Extras/lib/python/matplotlib/__init__.py:1155: UserWarning:  This call to matplotlib.use() has no effect\n",
      "because the backend has already been chosen;\n",
      "matplotlib.use() must be called *before* pylab, matplotlib.pyplot,\n",
      "or matplotlib.backends is imported for the first time.\n",
      "\n",
      "  warnings.warn(_use_error_msg)\n"
     ]
    }
   ],
   "source": [
    "%matplotlib inline\n",
    "# import ezy module of NeuroM\n",
    "from neurom import ezy"
   ]
  },
  {
   "cell_type": "code",
   "execution_count": 2,
   "metadata": {
    "collapsed": false
   },
   "outputs": [],
   "source": [
    "# load a neuron from an swc or h5 file\n",
    "neuron = ezy.load_neuron('../test_data/valid_set/Neuron.swc')"
   ]
  },
  {
   "cell_type": "code",
   "execution_count": 3,
   "metadata": {
    "collapsed": false
   },
   "outputs": [
    {
     "data": {
      "text/plain": [
       "(<matplotlib.figure.Figure at 0x10d4bb0d0>,\n",
       " <matplotlib.axes.AxesSubplot at 0x10b474890>)"
      ]
     },
     "execution_count": 3,
     "metadata": {},
     "output_type": "execute_result"
    },
    {
     "data": {
      "image/png": "[encoded data removed]",
      "text/plain": [
       "<matplotlib.figure.Figure at 0x10d4bb0d0>"
      ]
     },
     "metadata": {},
     "output_type": "display_data"
    }
   ],
   "source": [
    "# visualize neuron in two dimensions\n",
    "ezy.view(neuron)"
   ]
  },
  {
   "cell_type": "code",
   "execution_count": 4,
   "metadata": {
    "collapsed": false
   },
   "outputs": [
    {
     "data": {
      "text/plain": [
       "(<matplotlib.figure.Figure at 0x10d4d1e50>,\n",
       " <matplotlib.axes.Axes3DSubplot at 0x10d4d1890>)"
      ]
     },
     "execution_count": 4,
     "metadata": {},
     "output_type": "execute_result"
    },
    {
     "data": {
      "image/png": "[encoded data removed]",
      "text/plain": [
       "<matplotlib.figure.Figure at 0x10d4d1e50>"
      ]
     },
     "metadata": {},
     "output_type": "display_data"
    }
   ],
   "source": [
    "# in three dimensions\n",
    "ezy.view3d(neuron)"
   ]
  },
  {
   "cell_type": "markdown",
   "metadata": {},
   "source": [
    "<b>Feature Extraction</b>"
   ]
  },
  {
   "cell_type": "code",
   "execution_count": 5,
   "metadata": {
    "collapsed": false
   },
   "outputs": [
    {
     "name": "stdout",
     "output_type": "stream",
     "text": [
      " Neuron id          : Neuron \n",
      " Number of neurites : 4 \n",
      " Soma Radius        : 0.17 \n",
      " Number of sections : 84\n",
      "\n",
      "Neurite type \t\t\t| Number of sections\n",
      "TreeType.axon                   | 21\n",
      "TreeType.basal_dendrite         | 21\n",
      "TreeType.basal_dendrite         | 21\n",
      "TreeType.apical_dendrite        | 21\n"
     ]
    }
   ],
   "source": [
    "# Extract the number of neurites (basal and apical dendrites, and axons)\n",
    "number_of_neurites = neuron.get_n_neurites()\n",
    "\n",
    "# Extract the number of sections\n",
    "number_of_sections = neuron.get_n_sections()\n",
    "\n",
    "# Extract soma size\n",
    "soma_radius = neuron.get_soma_radius()\n",
    "\n",
    "# Extract the number of sections per neurite\n",
    "number_of_sections_per_neurite = neuron.get_n_sections_per_neurite()\n",
    "\n",
    "# printing\n",
    "print \" Neuron id          : {0} \\n \\\n",
    "Number of neurites : {1} \\n \\\n",
    "Soma Radius        : {2:.2f} \\n \\\n",
    "Number of sections : {4}\".format(neuron.name, number_of_neurites, soma_radius, number_of_neurites, number_of_sections)\n",
    "\n",
    "print\n",
    "print \"Neurite type \\t\\t\\t| Number of sections\"\n",
    "\n",
    "for i, neurite in enumerate(neuron.neurites):\n",
    "    \n",
    "    print \"{0:31} | {1}\".format(str(neurite.type), number_of_sections_per_neurite[i])"
   ]
  },
  {
   "cell_type": "markdown",
   "metadata": {
    "collapsed": false
   },
   "source": [
    "<b>In following block, features with list output are calculated,</b>"
   ]
  },
  {
   "cell_type": "code",
   "execution_count": 6,
   "metadata": {
    "collapsed": false,
    "scrolled": true
   },
   "outputs": [
    {
     "name": "stdout",
     "output_type": "stream",
     "text": [
      "|sg_len|sc_len|lc_bif_angles|rm_bif_angles|sc_path_dists|sc_rad_dists|\n",
      "| 0.10 | 9.58 |    2.09     |    0.34     |    9.58     |    8.84    |\n",
      "| 0.65 | 9.65 |    2.09     |    0.57     |    19.23    |   15.75    |\n",
      "| 1.01 |10.26 |    2.09     |    0.59     |    19.84    |   16.74    |\n",
      "| 1.06 | 9.19 |    2.09     |    0.49     |    29.03    |   23.23    |\n",
      "| 1.15 | 9.28 |    2.09     |    0.16     |    29.12    |   23.07    |\n",
      "| 0.94 |10.73 |    2.09     |    0.52     |    39.85    |   30.58    |\n",
      "| 1.30 | 9.59 |    2.09     |    0.76     |    38.71    |   30.18    |\n",
      "| 1.09 |10.45 |    2.09     |    0.47     |    49.17    |   37.80    |\n",
      "| 1.18 | 8.93 |    2.09     |    0.72     |    47.64    |   36.63    |\n",
      "| 1.09 |10.05 |    2.09     |    0.34     |    57.70    |   44.10    |\n",
      "| 1.41 | 9.97 |    2.09     |    0.58     |    57.61    |   43.97    |\n",
      "| 0.93 |10.72 |    2.09     |    0.26     |    68.33    |   51.29    |\n",
      "| 0.80 |10.55 |    2.09     |    0.12     |    68.16    |   51.92    |\n",
      "| 1.12 | 9.11 |    2.09     |    0.21     |    77.28    |   57.79    |\n",
      "| 1.38 |10.09 |    2.09     |    0.51     |    78.26    |   59.43    |\n",
      "| 0.81 |10.33 |    2.09     |    0.36     |    88.59    |   66.61    |\n",
      "| 0.49 | 9.18 |    2.09     |    0.24     |    87.43    |   66.25    |\n",
      "| 1.13 | 8.86 |    2.09     |    0.26     |    96.29    |   71.36    |\n",
      "| 0.72 |10.37 |    2.09     |    0.41     |    97.81    |   74.05    |\n",
      "| 0.85 | 9.95 |    2.09     |    0.19     |   107.76    |   80.70    |\n",
      "| 1.41 |11.02 |    2.09     |    0.25     |   108.83    |   82.44    |\n",
      "| 0.54 | 7.97 |    2.09     |    0.28     |    7.97     |    7.31    |\n",
      "| 1.33 | 8.73 |    2.09     |    0.20     |    16.70    |   14.54    |\n",
      "| 1.25 |10.71 |    2.09     |    0.37     |    18.68    |   16.26    |\n",
      "| 0.82 |10.52 |    2.09     |    0.14     |    29.20    |   25.07    |\n",
      "| 1.23 | 9.63 |    2.09     |    0.06     |    28.32    |   23.94    |\n",
      "| 0.32 |10.13 |    2.09     |    0.46     |    38.45    |   32.50    |\n",
      "| 1.53 |10.10 |    2.09     |    0.15     |    38.42    |   32.21    |\n",
      "| 1.40 |10.90 |    2.09     |    0.06     |    49.33    |   41.32    |\n",
      "| 0.44 |11.65 |    2.09     |    0.36     |    50.07    |   42.47    |\n",
      "| 1.41 |10.20 |    2.09     |    0.16     |    60.28    |   50.59    |\n",
      "| 0.97 | 9.54 |    2.09     |    0.37     |    59.61    |   50.36    |\n",
      "| 1.18 | 9.53 |    2.09     |    0.23     |    69.14    |   58.20    |\n",
      "| 0.53 |10.80 |    2.09     |    0.21     |    70.41    |   59.19    |\n",
      "| 1.25 |10.25 |    2.09     |    0.08     |    80.66    |   67.45    |\n",
      "| 0.85 |11.61 |    2.09     |    0.17     |    82.02    |   69.32    |\n",
      "| 0.74 | 8.93 |    2.09     |    0.25     |    90.95    |   76.34    |\n",
      "| 0.88 | 8.23 |    2.09     |    0.20     |    90.25    |   76.26    |\n",
      "| 0.40 | 9.67 |    2.09     |    0.16     |    99.92    |   83.73    |\n",
      "| 0.97 |10.13 |    2.09     |    0.18     |   100.38    |   84.86    |\n",
      "| 1.41 |10.97 |             |             |   111.35    |   94.04    |\n",
      "| 0.94 |10.89 |             |             |   111.28    |   94.43    |\n",
      "| 0.97 | 8.22 |             |             |    8.22     |    7.46    |\n",
      "| 0.95 | 9.59 |             |             |    17.82    |   15.43    |\n",
      "| 0.69 |11.02 |             |             |    19.24    |   15.37    |\n",
      "| 0.76 |10.26 |             |             |    29.50    |   24.71    |\n",
      "| 0.83 |10.76 |             |             |    30.00    |   22.84    |\n",
      "| 0.97 |10.38 |             |             |    40.38    |   31.87    |\n",
      "| 0.78 |10.62 |             |             |    40.62    |   30.50    |\n",
      "| 0.96 |11.05 |             |             |    51.67    |   40.23    |\n"
     ]
    }
   ],
   "source": [
    "# Extract the lengths of the sections\n",
    "section_lengths = neuron.get_section_lengths ()\n",
    "\n",
    "# Extract the lengths of the segments\n",
    "segment_lengths = neuron.get_segment_lengths ()\n",
    "\n",
    "# Extract the local bifurcation angles\n",
    "local_bif_angles = neuron.get_local_bifurcation_angles()\n",
    "\n",
    "# Extract the remote bifurcation angles\n",
    "remote_bif_angles = neuron.get_remote_bifurcation_angles()\n",
    "\n",
    "# Extract the path distances of sections\n",
    "section_path_distances = neuron.get_section_path_distances ()\n",
    "\n",
    "# Extract the radial distances of sections\n",
    "section_radial_distances = neuron.get_section_radial_distances ()\n",
    "\n",
    "# printing\n",
    "\n",
    "\n",
    "features = (segment_lengths, section_lengths, local_bif_angles, \n",
    "            remote_bif_angles, section_path_distances, section_radial_distances)\n",
    "\n",
    "def check(feature_list, n): \n",
    "    return  '{0:.2f}'.format(feature_list[n]) if n < len(feature_list) else ''\n",
    "\n",
    "print '|sg_len|sc_len|lc_bif_angles|rm_bif_angles|sc_path_dists|sc_rad_dists|'\n",
    "\n",
    "n = 0\n",
    "finished = False\n",
    "while not finished:\n",
    "    \n",
    "    args = (check(f, n) for f in features)\n",
    "    \n",
    "    print '|{0:^6}|{1:^6}|{2:^13}|{3:^13}|{4:^13}|{5:^12}|'.format(*args)\n",
    "    \n",
    "    n += 1\n",
    "    if n == 50: finished = True\n"
   ]
  },
  {
   "cell_type": "markdown",
   "metadata": {},
   "source": [
    "In order to visualize the output of the features above, we will need a histogram function,"
   ]
  },
  {
   "cell_type": "markdown",
   "metadata": {
    "collapsed": true
   },
   "source": [
    "<h1>3. More Examples </h1>\n",
    "\n",
    "<h2> 3.1 Analyze different type of trees </h2>\n",
    "\n",
    "The previous examples treated all neurites in the same way. The ezy module allows you to extract morphometrics for a selected type of trees."
   ]
  },
  {
   "cell_type": "code",
   "execution_count": 7,
   "metadata": {
    "collapsed": false
   },
   "outputs": [
    {
     "name": "stdout",
     "output_type": "stream",
     "text": [
      "axonal  [  9.57911737   9.64901212  10.26444194   9.18963499   9.28095558\n",
      "  10.72637819   9.58862945  10.45414656   8.92750196  10.05466932\n",
      "   9.96815205  10.72221858  10.55440382   9.11262954  10.09303133\n",
      "  10.33071556   9.17709438   8.86068767  10.37491982   9.95295124\n",
      "  11.01846074]\n",
      "basal  [  7.97232242   8.73002814  10.71154672  10.51683552   9.63361814\n",
      "  10.1348335   10.1034446   10.90464832  11.65250813  10.20352358\n",
      "   9.54012263   9.53084499  10.79778536  10.25222844  11.60598013\n",
      "   8.92943746   8.23366666   9.66996901  10.13395757  10.96762258\n",
      "  10.89245052   8.22452877   9.59239376  11.0190682   10.25855549\n",
      "  10.75631381  10.38491293  10.62047288  11.05192629  10.06943611\n",
      "  10.10998146  10.55534081  10.58562592  10.74722939   8.23176374\n",
      "   9.8508199    8.93049233  10.73839347   9.48292967   8.58137852\n",
      "   9.0358861    8.48759244]\n",
      "apical  [  9.21270799  11.05092479  11.02994892  10.7541096   10.17670693\n",
      "   9.36444805  10.49054247   9.52925566   9.49194374  10.36496319\n",
      "   8.42121218  10.92441795  10.34721651   8.99513591  11.75828156\n",
      "  11.56005879  10.38431278   9.97008743  10.85399109   9.87885774\n",
      "   9.81392252]\n"
     ]
    }
   ],
   "source": [
    "# Extract the section lengths of axonal trees\n",
    "ax_section_lengths = neuron.get_section_lengths (neurite_type=ezy.TreeType.axon)\n",
    "\n",
    "# Extract the section lengths of basal dendrite trees\n",
    "ba_section_lengths = neuron.get_section_lengths (neurite_type=ezy.TreeType.basal_dendrite)\n",
    "\n",
    "# Extract the section lengths of apical dendrite trees\n",
    "ap_section_lengths = neuron.get_section_lengths (neurite_type=ezy.TreeType.apical_dendrite)\n",
    "\n",
    "print 'axonal ', ax_section_lengths\n",
    "print 'basal ', ba_section_lengths\n",
    "print 'apical ', ap_section_lengths"
   ]
  },
  {
   "cell_type": "markdown",
   "metadata": {},
   "source": [
    "<h2> 3.2 Perform statistical analysis on extracted measurements </h2>\n",
    "\n",
    "Now we are ready to extract basic statistical measurements, using common Python functions. For this, we will use [numpy](http://www.numpy.org/), which is a package for scientific computing with Python.\n",
    "\n"
   ]
  },
  {
   "cell_type": "code",
   "execution_count": 8,
   "metadata": {
    "collapsed": false
   },
   "outputs": [
    {
     "name": "stdout",
     "output_type": "stream",
     "text": [
      "Section Lengths stats : \n",
      "\n",
      "\tmean = 10.01 +- 0.86\n",
      "\t[min, max] : [7.97, 11.76]\n"
     ]
    }
   ],
   "source": [
    "import numpy as np\n",
    "\n",
    "# Now we can get the mean section length\n",
    "mean_sl = np.mean(section_lengths)\n",
    "\n",
    "# We can get the standard deviation of section lengths\n",
    "std_sl = np.std(section_lengths)\n",
    "\n",
    "# We can get the minimum section length\n",
    "min_sl = np.min(section_lengths)\n",
    "\n",
    "# … and the maximum section length\n",
    "max_sl = np.max(section_lengths)\n",
    "\n",
    "print 'Section Lengths stats : \\n'\n",
    "print '\\tmean = {0:.2f} +- {1:.2f}'.format(mean_sl, std_sl)\n",
    "print '\\t[min, max] : [{0:.2f}, {1:.2f}]'.format(min_sl, max_sl)"
   ]
  },
  {
   "cell_type": "markdown",
   "metadata": {},
   "source": [
    "<h2> 3.3 Generate plots from the extracted morphometrics </h2>\n",
    "\n",
    "The distribution of the extracted measurements can be plotted with [matplotlib](http://matplotlib.org/), which is a Python library for plot generation. The python module that we will use is pylab ([basic tutorial](http://jakevdp.github.io/mpl_tutorial/tutorial_pages/tut1.html)). Pylab is automatically available when using ipython --pylab. Otherwise, one has to import it explicitly and prepend the plot commands with the prefix used in the import statement.\n",
    "\n",
    "First we will create two functions, histogram and boxplot, which can be found in the examples folder"
   ]
  },
  {
   "cell_type": "code",
   "execution_count": 9,
   "metadata": {
    "collapsed": false
   },
   "outputs": [],
   "source": [
    "from neurom.view import common\n",
    "\n",
    "def histogram(neuron, feature, bins=25, normed=False, cumulative=False, new_fig=True, subplot=False, **kwargs):\n",
    "\n",
    "    fig, ax = common.get_figure(new_fig=new_fig, subplot=subplot)\n",
    "\n",
    "    # concatenate the string 'get_' with a feature to generate the respective function's name\n",
    "    feature_values = getattr(neuron, 'get_' + feature)()\n",
    "\n",
    "    # generate histogram\n",
    "    ax.hist(feature_values, bins=bins, cumulative=cumulative, normed=normed)\n",
    "\n",
    "    return common.plot_style(fig=fig, ax=ax, **kwargs)\n",
    "\n",
    "def boxplot(neuron, feature, new_fig=True, subplot=False, **kwargs):\n",
    "    \n",
    "    # concatenate the string 'get_' with a feature to generate the respective function's name\n",
    "    feature_values = getattr(neuron, 'get_' + feature)()\n",
    "\n",
    "    # create figure or use the existing one\n",
    "    fig, ax = common.get_figure(new_fig=new_fig, subplot=subplot)\n",
    "\n",
    "    # boxplot function\n",
    "    ax.boxplot(feature_values)\n",
    "    \n",
    "    return common.plot_style(fig=fig, ax=ax, **kwargs)"
   ]
  },
  {
   "cell_type": "markdown",
   "metadata": {},
   "source": []
  },
  {
   "cell_type": "code",
   "execution_count": 10,
   "metadata": {
    "collapsed": false
   },
   "outputs": [
    {
     "data": {
      "image/png": "[encoded data removed]",
      "text/plain": [
       "<matplotlib.figure.Figure at 0x10d6d6d10>"
      ]
     },
     "metadata": {},
     "output_type": "display_data"
    }
   ],
   "source": [
    "import pylab as plt\n",
    "\n",
    "# select the feature of choice\n",
    "feature = 'segment_lengths'\n",
    "\n",
    "# create empty figure\n",
    "plt.figure(figsize=(11,3))\n",
    "\n",
    "# kwargs dictionary is used by plot_style to propagate the options\n",
    "# in the figure. These kwargs can also be passed directly in kwargs)\n",
    "xlabel = ''\n",
    "ylabel = ''\n",
    "title = ''\n",
    "\n",
    "# figure is automatically used from the plot function if and only if new_fig=False\n",
    "# otherwise a new figure will be created\n",
    "histogram(neuron, feature, normed=True, new_fig=False, subplot=131, xlabel=xlabel, ylabel=ylabel, title=title)\n",
    "\n",
    "# toggle cumulative=True for cumulative histogram\n",
    "histogram(neuron, feature, cumulative=True, normed=True, new_fig=False, subplot=132, xlabel=xlabel, ylabel=ylabel, title=title)\n",
    "\n",
    "# create boxplot\n",
    "boxplot(neuron, feature, new_fig=False, subplot=133, xlabel=xlabel, ylabel=ylabel, title=title)\n",
    "\n",
    "# fix layout for better visualization\n",
    "plt.tight_layout()"
   ]
  },
  {
   "cell_type": "markdown",
   "metadata": {},
   "source": [
    "<h2>3.4 Fit the extracted data with a statistical distribution</h2>\n",
    "\n",
    "Now we are ready to fit the extracted data using common Python functions. For this, we will use [scipy](http://www.scipy.org/), which is a package for numerical routines for scientific computing with Python."
   ]
  },
  {
   "cell_type": "code",
   "execution_count": 11,
   "metadata": {
    "collapsed": false
   },
   "outputs": [
    {
     "name": "stdout",
     "output_type": "stream",
     "text": [
      "Fit output type :  <class 'neurom.stats.FitResults'>\n",
      "[mu, sigma] : [1.00, 0.31]\n",
      "\n",
      "Kolmogorov-Smirnof distance : 0.05\n",
      "P-value : 0.02\n"
     ]
    }
   ],
   "source": [
    "from neurom import stats\n",
    "\n",
    "feature = 'segment_lengths'\n",
    "\n",
    "data = getattr(neuron, 'get_' + feature)()\n",
    "\n",
    "# Let’s start with a normal distribution. We will fit the data (here we use section_lengths) that we\n",
    "# computed above with a normal distribution\n",
    "p = stats.fit(data, distribution='norm')\n",
    "\n",
    "# The output of the function is a named tuple called FitResults\n",
    "print 'Fit output type : ', type(p)\n",
    "\n",
    "# the parameters are stored in the variable params which in the case of the normal distribution\n",
    "# stores the mu and sigma of the normal distribution\n",
    "mu, sigma = p.params\n",
    "ks_dist, pvalue = p.errs\n",
    "\n",
    "# Print the results \n",
    "print '[mu, sigma] : [{0:.2f}, {1:.2f}]\\n'.format(mu, sigma)\n",
    "\n",
    "# We need to check the statistical error of the performed fit to evaluate the accuracy of the \n",
    "# selected model. To do so we use the errors variable of FitResults, namely,\n",
    "print 'Kolmogorov-Smirnof distance : {0:.2f}'.format(ks_dist)\n",
    "print 'P-value : {0:.2f}'.format(pvalue)"
   ]
  },
  {
   "cell_type": "markdown",
   "metadata": {},
   "source": [
    "Which can be visualized:"
   ]
  },
  {
   "cell_type": "code",
   "execution_count": 12,
   "metadata": {
    "collapsed": false,
    "scrolled": true
   },
   "outputs": [
    {
     "data": {
      "image/png": "[encoded data removed]",
      "text/plain": [
       "<matplotlib.figure.Figure at 0x10f083c10>"
      ]
     },
     "metadata": {},
     "output_type": "display_data"
    }
   ],
   "source": [
    "from scipy.stats import norm\n",
    "\n",
    "# make a histogram as above\n",
    "fig, ax = histogram(neuron, feature, new_fig=True, normed=True, xlabel='', ylabel='', title='')\n",
    "\n",
    "# normal range 5 standard deviations aroung its mean\n",
    "norm_range = np.arange(mu - 5.*sigma, mu + 5.*sigma, 0.001)\n",
    "\n",
    "# plot the normal pdf with the given range, mu and sigma\n",
    "ax.plot(norm_range, norm.pdf(norm_range, mu, sigma), linewidth=3., c='r', alpha=0.8)\n",
    "\n",
    "plt.tight_layout()"
   ]
  },
  {
   "cell_type": "markdown",
   "metadata": {},
   "source": [
    "It is also possible to find the optimal distribution that best fits the data, among a number of distributions that are\n",
    "supported by scipy. For instance,"
   ]
  },
  {
   "cell_type": "code",
   "execution_count": 13,
   "metadata": {
    "collapsed": false
   },
   "outputs": [
    {
     "name": "stdout",
     "output_type": "stream",
     "text": [
      "FitResults(params=(1.0008157314553809, 0.30873679377786722), errs=(0.053380962543575161, 0.016059728228706938), type='norm')\n"
     ]
    }
   ],
   "source": [
    "p = stats.optimal_distribution(data, distr_to_check=('lognorm', 'logistic', 'norm'))\n",
    "\n",
    "print p"
   ]
  },
  {
   "cell_type": "markdown",
   "metadata": {},
   "source": [
    "<h2>3.5 Apply more advanced manipulation on extracted data</h2>\n",
    "\n",
    "For example extract the section lengths above a selected threshold (>10)"
   ]
  },
  {
   "cell_type": "code",
   "execution_count": 14,
   "metadata": {
    "collapsed": false
   },
   "outputs": [
    {
     "data": {
      "text/plain": [
       "array([ 10.26444194,  10.72637819,  10.45414656,  10.05466932,\n",
       "        10.72221858,  10.55440382,  10.09303133,  10.33071556,\n",
       "        10.37491982,  11.01846074,  10.71154672,  10.51683552,\n",
       "        10.1348335 ,  10.1034446 ,  10.90464832,  11.65250813,\n",
       "        10.20352358,  10.79778536,  10.25222844,  11.60598013,\n",
       "        10.13395757,  10.96762258,  10.89245052,  11.0190682 ,\n",
       "        10.25855549,  10.75631381,  10.38491293,  10.62047288,\n",
       "        11.05192629,  10.06943611,  10.10998146,  10.55534081,\n",
       "        10.58562592,  10.74722939,  10.73839347,  11.05092479,\n",
       "        11.02994892,  10.7541096 ,  10.17670693,  10.49054247,\n",
       "        10.36496319,  10.92441795,  10.34721651,  11.75828156,\n",
       "        11.56005879,  10.38431278,  10.85399109])"
      ]
     },
     "execution_count": 14,
     "metadata": {},
     "output_type": "execute_result"
    }
   ],
   "source": [
    "# Get the ids of section lengths above the threshold\n",
    "selected_ids = np.where(section_lengths > 10)\n",
    "\n",
    "# Get the values of section lengths above the threshold\n",
    "section_lengths[selected_ids]"
   ]
  },
  {
   "cell_type": "markdown",
   "metadata": {},
   "source": [
    "<h2>3.6 Combine morphometrics</h2>\n",
    "\n",
    "We can study relations between different morphometrics. For example, we can combine section length and path length to soma,"
   ]
  },
  {
   "cell_type": "code",
   "execution_count": 15,
   "metadata": {
    "collapsed": true
   },
   "outputs": [],
   "source": [
    "# Get section length\n",
    "section_lengths = neuron.get_section_lengths ()\n",
    "\n",
    "# Get path distance to soma\n",
    "section_path_distances = neuron.get_section_path_distances ()\n",
    "\n",
    "# Get the length of all sections with a path distance between 0.0 and 60.0\n",
    "section_indices = np.where((section_path_distances < 60.0) & (section_path_distances >= 0.0))\n",
    "selected_section_lengths = section_lengths[section_indices]"
   ]
  },
  {
   "cell_type": "code",
   "execution_count": null,
   "metadata": {
    "collapsed": true
   },
   "outputs": [],
   "source": []
  }
 ],
 "metadata": {
  "kernelspec": {
   "display_name": "Python 2",
   "language": "python",
   "name": "python2"
  },
  "language_info": {
   "codemirror_mode": {
    "name": "ipython",
    "version": 2
   },
   "file_extension": ".py",
   "mimetype": "text/x-python",
   "name": "python",
   "nbconvert_exporter": "python",
   "pygments_lexer": "ipython2",
   "version": "2.7.10"
  }
 },
 "nbformat": 4,
 "nbformat_minor": 0
}
